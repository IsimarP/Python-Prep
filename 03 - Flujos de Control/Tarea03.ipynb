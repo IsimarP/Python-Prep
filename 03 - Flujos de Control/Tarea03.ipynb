{
 "cells": [
  {
   "cell_type": "code",
   "execution_count": 3,
   "metadata": {},
   "outputs": [
    {
     "name": "stdout",
     "output_type": "stream",
     "text": [
      "Mayor a cero\n"
     ]
    }
   ],
   "source": [
    "N = 5\n",
    "if (N < 0):\n",
    "    print ('Menor a cero')\n",
    "elif (N > 0):\n",
    "    print ('Mayor a cero')\n",
    "else:\n",
    "    print ('Es cero')"
   ]
  },
  {
   "cell_type": "code",
   "execution_count": 31,
   "metadata": {},
   "outputs": [
    {
     "name": "stdout",
     "output_type": "stream",
     "text": [
      "El dato Dante y 20 son diferente tipo de dato\n"
     ]
    }
   ],
   "source": [
    "X = 'Dante'\n",
    "Y = 20\n",
    "if (type(X) == type(Y)):\n",
    "    print(f'El dato {X} y {Y} son el mismo tipo de dato')\n",
    "else:\n",
    "    print(f'El dato {X} y {Y} son diferente tipo de dato')"
   ]
  },
  {
   "cell_type": "code",
   "execution_count": 92,
   "metadata": {},
   "outputs": [
    {
     "name": "stdout",
     "output_type": "stream",
     "text": [
      "Numero 1 Es impar\n",
      "Numero 2 Es par\n",
      "Numero 3 Es impar\n",
      "Numero 4 Es par\n",
      "Numero 5 Es impar\n",
      "Numero 6 Es par\n",
      "Numero 7 Es impar\n",
      "Numero 8 Es par\n",
      "Numero 9 Es impar\n",
      "Numero 10 Es par\n",
      "Numero 11 Es impar\n",
      "Numero 12 Es par\n",
      "Numero 13 Es impar\n",
      "Numero 14 Es par\n",
      "Numero 15 Es impar\n",
      "Numero 16 Es par\n",
      "Numero 17 Es impar\n",
      "Numero 18 Es par\n",
      "Numero 19 Es impar\n",
      "Numero 20 Es par\n"
     ]
    }
   ],
   "source": [
    "for b in range (1, 21):\n",
    "    if b % 2 == 0:\n",
    "        print('Numero', int(b),'Es par')\n",
    "    else:\n",
    "        print('Numero', int(b),'Es impar')"
   ]
  },
  {
   "cell_type": "code",
   "execution_count": 101,
   "metadata": {},
   "outputs": [
    {
     "name": "stdout",
     "output_type": "stream",
     "text": [
      "Numero: 0 Elevado a ³ 0\n",
      "Numero: 1 Elevado a ³ 1\n",
      "Numero: 2 Elevado a ³ 8\n",
      "Numero: 3 Elevado a ³ 27\n",
      "Numero: 4 Elevado a ³ 64\n",
      "Numero: 5 Elevado a ³ 125\n"
     ]
    }
   ],
   "source": [
    "for b in range (0,6):\n",
    "    print('Numero:', str(b), 'Elevado a ³', str(b**3))"
   ]
  },
  {
   "cell_type": "code",
   "execution_count": 102,
   "metadata": {},
   "outputs": [
    {
     "name": "stdout",
     "output_type": "stream",
     "text": [
      "9\n"
     ]
    }
   ],
   "source": [
    "L = 10\n",
    "for b in range(0,L):\n",
    "    pass\n",
    "print(b)"
   ]
  },
  {
   "cell_type": "code",
   "execution_count": 40,
   "metadata": {},
   "outputs": [
    {
     "name": "stdout",
     "output_type": "stream",
     "text": [
      "4\n",
      "12\n",
      "24\n"
     ]
    }
   ],
   "source": [
    "Numero = 4\n",
    "Factorial = 1\n",
    "while (Numero > 1):\n",
    "    Factorial = Numero * Factorial\n",
    "    print(Factorial)\n",
    "    Numero = Numero - 1"
   ]
  },
  {
   "cell_type": "code",
   "execution_count": 60,
   "metadata": {},
   "outputs": [
    {
     "name": "stdout",
     "output_type": "stream",
     "text": [
      "ciclo g\n",
      "ciclo g\n",
      "ciclo g\n",
      "ciclo g\n",
      "ciclo g\n",
      "ciclo g\n",
      "ciclo g\n",
      "ciclo g\n",
      "ciclo g\n",
      "ciclo g\n",
      "ciclo g\n",
      "ciclo g\n",
      "ciclo g\n",
      "ciclo g\n",
      "ciclo g\n",
      "ciclo g\n",
      "ciclo g\n",
      "ciclo g\n",
      "ciclo g\n"
     ]
    }
   ],
   "source": [
    "g = 20\n",
    "while(g > 5):\n",
    "    for l in range (1,g):\n",
    "        print('ciclo g')\n",
    "        g = +1"
   ]
  },
  {
   "cell_type": "code",
   "execution_count": 59,
   "metadata": {},
   "outputs": [
    {
     "name": "stdout",
     "output_type": "stream",
     "text": [
      "ciclo P\n"
     ]
    }
   ],
   "source": [
    "p = 1\n",
    "for l in range(0,p):\n",
    "    while(p <= 1):\n",
    "        print('ciclo P')\n",
    "        p = p + 1"
   ]
  },
  {
   "cell_type": "code",
   "execution_count": 88,
   "metadata": {},
   "outputs": [
    {
     "name": "stdout",
     "output_type": "stream",
     "text": [
      "Numero 1 es primo\n",
      "Numero 2 es primo\n",
      "Numero 3 es primo\n",
      "Numero 5 es primo\n",
      "Numero 7 es primo\n",
      "Numero 11 es primo\n",
      "Numero 13 es primo\n",
      "Numero 17 es primo\n",
      "Numero 19 es primo\n",
      "Numero 23 es primo\n",
      "Numero 29 es primo\n"
     ]
    }
   ],
   "source": [
    "num1 = 1\n",
    "num2 = 30\n",
    "for n in range (num1,(num2 +1)):\n",
    "    primo = True\n",
    "    j = 2\n",
    "    while(j < n):\n",
    "        if(n % j == 0):\n",
    "            primo = False\n",
    "            break\n",
    "        j += 1\n",
    "    if(primo):\n",
    "            print('Numero', n, 'es primo')"
   ]
  },
  {
   "cell_type": "code",
   "execution_count": 112,
   "metadata": {},
   "outputs": [
    {
     "name": "stdout",
     "output_type": "stream",
     "text": [
      "2 es primo\n",
      "3 es primo\n",
      "5 es primo\n",
      "7 es primo\n",
      "11 es primo\n",
      "13 es primo\n",
      "17 es primo\n",
      "19 es primo\n",
      "23 es primo\n",
      "29 es primo\n",
      "numero ciclos 135\n"
     ]
    }
   ],
   "source": [
    "ciclos = 0\n",
    "for n in range(2,31):\n",
    "    es_primo = True\n",
    "    for b in range(2, n):\n",
    "        ciclos += 1\n",
    "        if (n % b == 0):\n",
    "            es_primo = False\n",
    "            break\n",
    "    if(es_primo):\n",
    "        print(n, 'es primo')   \n",
    "print('numero ciclos', ciclos)    "
   ]
  },
  {
   "cell_type": "code",
   "execution_count": 118,
   "metadata": {},
   "outputs": [
    {
     "name": "stdout",
     "output_type": "stream",
     "text": [
      "El numero 108 es divisible\n",
      "El numero 120 es divisible\n",
      "El numero 132 es divisible\n",
      "El numero 144 es divisible\n",
      "El numero 156 es divisible\n",
      "El numero 168 es divisible\n",
      "El numero 180 es divisible\n",
      "El numero 192 es divisible\n",
      "El numero 204 es divisible\n",
      "El numero 216 es divisible\n",
      "El numero 228 es divisible\n",
      "El numero 240 es divisible\n",
      "El numero 252 es divisible\n",
      "El numero 264 es divisible\n",
      "El numero 276 es divisible\n",
      "El numero 288 es divisible\n",
      "El numero 300 es divisible\n"
     ]
    }
   ],
   "source": [
    "n = 99\n",
    "while (n < 300):\n",
    "    n+=1\n",
    "    if (n % 12 != 0):\n",
    "        continue\n",
    "    print('El numero', n, 'es divisible')\n",
    "        "
   ]
  },
  {
   "cell_type": "code",
   "execution_count": 126,
   "metadata": {},
   "outputs": [
    {
     "name": "stdout",
     "output_type": "stream",
     "text": [
      "1\n",
      "Encontrar siguiente numero primo?\n",
      "Fin del proceso\n"
     ]
    }
   ],
   "source": [
    "n = 1\n",
    "continuar = 1\n",
    "primo = True\n",
    "while (continuar == 1):\n",
    "    for b in range (2, n):\n",
    "        if (n % b == 0):\n",
    "            primo = False\n",
    "            break\n",
    "    if(primo):\n",
    "        print(n)\n",
    "        print('Encontrar siguiente numero primo?')\n",
    "        if (input() != 'si'):\n",
    "            print ('Fin del proceso')\n",
    "            break\n",
    "    else:\n",
    "        primo = True\n",
    "    n += 1"
   ]
  },
  {
   "cell_type": "code",
   "execution_count": 141,
   "metadata": {},
   "outputs": [
    {
     "name": "stdout",
     "output_type": "stream",
     "text": [
      "el primer numero divisible por 3 es 102\n"
     ]
    }
   ],
   "source": [
    "n = 99\n",
    "while (n<=300):\n",
    "    n+=1\n",
    "    if (n % 6 == 0):\n",
    "        print('el primer numero divisible por 3 es', n)\n",
    "        break\n",
    "        "
   ]
  }
 ],
 "metadata": {
  "interpreter": {
   "hash": "dda2a2f88b3b253d3c78d74fc922f1330618428625ad481f7cd3f9c5a78cfae1"
  },
  "kernelspec": {
   "display_name": "Python 3.10.4 64-bit",
   "language": "python",
   "name": "python3"
  },
  "language_info": {
   "codemirror_mode": {
    "name": "ipython",
    "version": 3
   },
   "file_extension": ".py",
   "mimetype": "text/x-python",
   "name": "python",
   "nbconvert_exporter": "python",
   "pygments_lexer": "ipython3",
   "version": "3.10.4"
  },
  "orig_nbformat": 4
 },
 "nbformat": 4,
 "nbformat_minor": 2
}
